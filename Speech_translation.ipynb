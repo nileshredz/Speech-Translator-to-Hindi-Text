{
 "cells": [
  {
   "cell_type": "code",
   "execution_count": 18,
   "metadata": {},
   "outputs": [],
   "source": [
    "import speech_recognition as sr\n",
    "from translate import Translator"
   ]
  },
  {
   "cell_type": "code",
   "execution_count": 21,
   "metadata": {},
   "outputs": [],
   "source": [
    "def main():\n",
    "    r=sr.Recognizer()\n",
    "    \n",
    "    with sr. Microphone() as source:\n",
    "        r.adjust_for_ambient_noise(source)\n",
    "        translator=Translator(to_lang='hi')\n",
    "        \n",
    "        print(\"Say Something......\")\n",
    "        \n",
    "        audio= r.listen(source)\n",
    "        print('Recognizing Now....')\n",
    "        \n",
    "        #recognize speech using google:\n",
    "        \n",
    "        try:\n",
    "            speech=r.recognize_google(audio)\n",
    "            translation=translator.translate(speech)\n",
    "            print('You have said: \\n' +speech )\n",
    "            print('Translation in Hindi: \\n' +translation)\n",
    "            \n",
    "            \n",
    "        except Exception as e:\n",
    "            print('Error: ' +str(e))\n",
    "            \n",
    "            \n",
    "            \n"
   ]
  },
  {
   "cell_type": "code",
   "execution_count": 25,
   "metadata": {},
   "outputs": [
    {
     "name": "stdout",
     "output_type": "stream",
     "text": [
      "Say Something......\n",
      "Recognizing Now....\n",
      "You have said: \n",
      "what is your name\n",
      "Translation in Hindi: \n",
      "आपका नाम क्या है\n"
     ]
    }
   ],
   "source": [
    "if __name__=='__main__':\n",
    "    main()"
   ]
  },
  {
   "cell_type": "code",
   "execution_count": null,
   "metadata": {},
   "outputs": [],
   "source": []
  },
  {
   "cell_type": "code",
   "execution_count": null,
   "metadata": {},
   "outputs": [],
   "source": []
  }
 ],
 "metadata": {
  "kernelspec": {
   "display_name": "Python 3",
   "language": "python",
   "name": "python3"
  },
  "language_info": {
   "codemirror_mode": {
    "name": "ipython",
    "version": 3
   },
   "file_extension": ".py",
   "mimetype": "text/x-python",
   "name": "python",
   "nbconvert_exporter": "python",
   "pygments_lexer": "ipython3",
   "version": "3.7.4"
  }
 },
 "nbformat": 4,
 "nbformat_minor": 4
}
